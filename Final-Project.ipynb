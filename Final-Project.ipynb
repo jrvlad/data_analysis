{
 "cells": [
  {
   "cell_type": "markdown",
   "metadata": {},
   "source": [
    "<center> \n",
    "     <img src=\"https://cf-courses-data.s3.us.cloud-object-storage.appdomain.cloud/assets/logos/SN_web_lightmode.png\" width=\"300\"> \n",
    "</center>\n",
    "\n",
    "# Assignment: Notebook for Peer Assignment\n",
    "Estimated time needed: 45 minutes\n"
   ]
  },
  {
   "cell_type": "markdown",
   "metadata": {},
   "source": [
    "# Assignment Scenario\n",
    "\n",
    "Congratulations! You have just been hired by a US Venture Capital firm as a data analyst.\n",
    "\n",
    "The company is considering foreign grain markets to help meet its supply chain requirements for its recent investments in the microbrewery and microdistillery industry, which is involved with the production and distribution of craft beers and spirits.\n",
    "\n",
    "Your first task is to provide a high level analysis of crop production in Canada. Your stakeholders want to understand the current and historical performance of certain crop types in terms of supply and price volatility. For now they are mainly interested in a macro-view of Canada's crop farming industry, and how it relates to the relative value of the Canadian and US dollars.\n"
   ]
  },
  {
   "cell_type": "markdown",
   "metadata": {},
   "source": [
    "# Introduction\n",
    "\n",
    "Using this R notebook you will:\n",
    "\n",
    "1.  Understand four datasets \n",
    "2.  Load the datasets into four separate tables in a Db2 database\n",
    "3.  Execute SQL queries unsing the RODBC R package to answer assignment questions \n",
    "\n",
    "You have already encountered two of these datasets in the previous practice lab. You will be able to reuse much of the work you did there to prepare your database tables for executing SQL queries.\n"
   ]
  },
  {
   "cell_type": "markdown",
   "metadata": {},
   "source": [
    "# Understand the datasets\n",
    "\n",
    "To complete the assignment problems in this notebook you will be using subsetted snapshots of two datasets from Statistics Canada, and one from the Bank of Canada. The links to the prepared datasets are provided in the next section; the interested student can explore the landing pages for the source datasets as follows:\n",
    "\n",
    "1.  <a href=\"https://www150.statcan.gc.ca/t1/tbl1/en/tv.action?utm_medium=Exinfluencer&utm_source=Exinfluencer&utm_content=000026UJ&utm_term=10006555&utm_id=NA-SkillsNetwork-Channel-SkillsNetworkCoursesIBMRP0203ENSkillsNetwork890-2022-01-01&pid=3210035901\">Canadian Principal Crops (Data & Metadata)</a>\n",
    "2.  <a href=\"https://www150.statcan.gc.ca/t1/tbl1/en/tv.action?utm_medium=Exinfluencer&utm_source=Exinfluencer&utm_content=000026UJ&utm_term=10006555&utm_id=NA-SkillsNetwork-Channel-SkillsNetworkCoursesIBMRP0203ENSkillsNetwork890-2022-01-01&pid=3210007701\">Farm product prices (Data & Metadata)</a>\n",
    "3.  <a href=\"https://www.bankofcanada.ca/rates/exchange/daily-exchange-rates?utm_medium=Exinfluencer&utm_source=Exinfluencer&utm_content=000026UJ&utm_term=10006555&utm_id=NA-SkillsNetwork-Channel-SkillsNetworkCoursesIBMRP0203ENSkillsNetwork890-2022-01-01\">Bank of Canada daily average exchange rates</a>\n",
    "\n",
    "\n",
    "### 1. Canadian Principal Crops Data *\n",
    "\n",
    "This dataset contains agricultural production measures for the principle crops grown in Canada, including a breakdown by province and teritory, for each year from 1908 to 2020.\n",
    "\n",
    "For this assignment you will use a preprocessed snapshot of this dataset (see below).\n",
    "\n",
    "A detailed description of this dataset can be obtained from the StatsCan Data Portal at:\n",
    "https://www150.statcan.gc.ca/t1/tbl1/en/tv.action?pid=3210035901  \n",
    "Detailed information is included in the metadata file and as header text in the data file, which can be downloaded - look for the 'download options' link.  \n",
    "\n",
    "### 2. Farm product prices\n",
    "\n",
    "This dataset contains monthly average farm product prices for Canadian crops and livestock by province and teritory, from 1980 to 2020 (or 'last year', whichever is greatest).\n",
    "\n",
    "For this assignment you will use a preprocessed snapshot of this dataset (see below).\n",
    "\n",
    "A description of this dataset can be obtained from the StatsCan Data Portal at:\n",
    "https://www150.statcan.gc.ca/t1/tbl1/en/tv.action?pid=3210007701 \n",
    "The information is included in the metadata file, which can be downloaded - look for the 'download options' link.  \n",
    "\n",
    "### 3. Bank of Canada daily average exchange rates *\n",
    "\n",
    "This dataset contains the daily average exchange rates for multiple foreign currencies. Exchange rates are expressed as 1 unit of the foreign currency converted into Canadian dollars. It includes only the latest four years of data, and the rates are published once each business day by 16:30 ET.\n",
    "\n",
    "For this assignment you will use a snapshot of this dataset with only the USD-CAD exchange rates included (see next section). We have also prepared a monthly averaged version which you will be using below.\n",
    "\n",
    "A brief description of this dataset and the original dataset can be obtained from the Bank of Canada Data Portal at:\n",
    "https://www.bankofcanada.ca/rates/exchange/daily-exchange-rates/\n",
    "\n",
    "( * these datasets are the same as the ones you used in the practice lab)\n"
   ]
  },
  {
   "cell_type": "markdown",
   "metadata": {},
   "source": [
    "### Dataset URLs\n",
    "\n",
    "  1.  Annual Crop Data: https://cf-courses-data.s3.us.cloud-object-storage.appdomain.cloud/IBM-RP0203EN-SkillsNetwork/labs/Final%20Project/Annual_Crop_Data.csv \n",
    "\n",
    "  2.  Farm product prices: https://cf-courses-data.s3.us.cloud-object-storage.appdomain.cloud/IBM-RP0203EN-SkillsNetwork/labs/Final%20Project/Monthly_Farm_Prices.csv\n",
    "  \n",
    "  3.  Daily FX Data: https://cf-courses-data.s3.us.cloud-object-storage.appdomain.cloud/IBM-RP0203EN-SkillsNetwork/labs/Final%20Project/Daily_FX.csv\n",
    "  \n",
    "  4.  Monthly FX Data: https://cf-courses-data.s3.us.cloud-object-storage.appdomain.cloud/IBM-RP0203EN-SkillsNetwork/labs/Final%20Project/Monthly_FX.csv\n",
    "  \n",
    "\n",
    "<span style=\"color:red\">**IMPORTANT:**</span> You will be loading these datasets directly into R data frames from these URLs instead of from the StatsCan and Bank of Canada portals. The versions provided at these URLs are simplified and subsetted versions of the original datasets.\n"
   ]
  },
  {
   "cell_type": "markdown",
   "metadata": {},
   "source": [
    "#### Now let's load these datasets into four separate Db2 tables.\n",
    "Let's first load the RODBC package:\n"
   ]
  },
  {
   "cell_type": "code",
   "execution_count": 1,
   "metadata": {},
   "outputs": [],
   "source": [
    "library(RODBC)"
   ]
  },
  {
   "cell_type": "markdown",
   "metadata": {},
   "source": [
    "## Problem 1\n",
    "#### Create tables\n",
    "Establish a connection to the Db2 database, and create the following four tables using the RODBC package in R. \n",
    "Use the separate cells provided below to create each of your tables.\n",
    "\n",
    "1.  **CROP_DATA**\n",
    "2.  **FARM_PRICES**\n",
    "3.  **DAILY_FX**\n",
    "4.  **MONTHLY_FX**  \n",
    "\n",
    "The previous practice lab will help you accomplish this.\n"
   ]
  },
  {
   "cell_type": "markdown",
   "metadata": {},
   "source": [
    "### Solution 1\n"
   ]
  },
  {
   "cell_type": "code",
   "execution_count": 2,
   "metadata": {},
   "outputs": [],
   "source": [
    "# Establish database connection\n",
    "dsn_driver <- \"{IBM DB2 ODBC Driver}\"\n",
    "dsn_database = \"bludb\"            # e.g. \"bludb\"\n",
    "dsn_hostname = \"2f3279a5-73d1-4859-88f0-a6c3e6b4b907.c3n41cmd0nqnrk39u98g.databases.appdomain.cloud\"   # e.g. replace <yourhostname> with your hostname\n",
    "dsn_port = \"30756\"                # e.g. \"3273\" \n",
    "dsn_protocol = \"TCPIP\"            # i.e. \"TCPIP\"\n",
    "dsn_uid = \"nyj66419\"              # e.g. replace <username> with your userid\n",
    "dsn_pwd = \"LnM0MOs0tvwXA8pU\"            # e.g. replace <password> with your password\n",
    "dsn_security <- \"ssl\""
   ]
  },
  {
   "cell_type": "code",
   "execution_count": 3,
   "metadata": {},
   "outputs": [
    {
     "data": {
      "text/plain": [
       "RODBC Connection 1\n",
       "Details:\n",
       "  case=nochange\n",
       "  DRIVER={IBM DB2 ODBC DRIVER}\n",
       "  UID=nyj66419\n",
       "  PWD=******\n",
       "  DATABASE=bludb\n",
       "  HOSTNAME=2f3279a5-73d1-4859-88f0-a6c3e6b4b907.c3n41cmd0nqnrk39u98g.databases.appdomain.cloud\n",
       "  PORT=30756\n",
       "  PROTOCOL=TCPIP\n",
       "  SECURITY=SSL"
      ]
     },
     "metadata": {},
     "output_type": "display_data"
    }
   ],
   "source": [
    "conn_path <- paste(\"DRIVER=\",dsn_driver,\n",
    "                  \";DATABASE=\",dsn_database,\n",
    "                  \";HOSTNAME=\",dsn_hostname,\n",
    "                  \";PORT=\",dsn_port,\n",
    "                  \";PROTOCOL=\",dsn_protocol,\n",
    "                  \";UID=\",dsn_uid,\n",
    "                  \";PWD=\",dsn_pwd,\n",
    "                  \";SECURITY=\",dsn_security,        \n",
    "                    sep=\"\")\n",
    "conn <- odbcDriverConnect(conn_path)\n",
    "conn"
   ]
  },
  {
   "cell_type": "code",
   "execution_count": 4,
   "metadata": {},
   "outputs": [],
   "source": [
    "# CROP_DATA:\n",
    "df1 <- sqlQuery(conn, \"CREATE TABLE CROP_DATA (\n",
    "                            CD_ID CHAR(6) NOT NULL, \n",
    "                            YEAR VARCHAR(75) NOT NULL, \n",
    "                            CROP_TYPE VARCHAR(50) NOT NULL,\n",
    "                            GEO VARCHAR(50) NOT NULL,\n",
    "                            SEEDED_AREA INT NOT NULL,\n",
    "                            HARVESTED_AREA INT NOT NULL,\n",
    "                            PRODUCTION INT NOT NULL,\n",
    "                            AVG_YIELD INT NOT NULL,\n",
    "                            PRIMARY KEY (CD_ID))\", \n",
    "                errors=FALSE)"
   ]
  },
  {
   "cell_type": "code",
   "execution_count": 5,
   "metadata": {},
   "outputs": [],
   "source": [
    "# FARM_PRICES:\n",
    "df2 <- sqlQuery(conn, \"CREATE TABLE FARM_PRICES (\n",
    "                            CD_ID CHAR(6) NOT NULL, \n",
    "                            DATE VARCHAR(75) NOT NULL, \n",
    "                            CROP_TYPE VARCHAR(50) NOT NULL,\n",
    "                            GEO VARCHAR(50) NOT NULL,\n",
    "                            PRICE_PRERMT FLOAT NOT NULL,\n",
    "                            PRIMARY KEY (CD_ID))\", \n",
    "                errors=FALSE)"
   ]
  },
  {
   "cell_type": "code",
   "execution_count": 7,
   "metadata": {},
   "outputs": [],
   "source": [
    "# DAILY_FX:\n",
    "df2 <- sqlQuery(conn, \"CREATE TABLE DAILY_FX (\n",
    "                            DFX_ID CHAR(6) NOT NULL, \n",
    "                            DATE VARCHAR(75) NOT NULL, \n",
    "                            FXUSDCAD FLOAT NOT NULL,\n",
    "                            PRIMARY KEY (DFX_ID))\", \n",
    "                errors=FALSE)"
   ]
  },
  {
   "cell_type": "code",
   "execution_count": 9,
   "metadata": {},
   "outputs": [],
   "source": [
    "# MONTHLY_FX:\n",
    "# MONTHLY_FX:\n",
    "df2 <- sqlQuery(conn, \"CREATE TABLE MONTHLY_FX (\n",
    "                            DFX_ID CHAR(6) NOT NULL, \n",
    "                            DATE VARCHAR(75) NOT NULL, \n",
    "                            FXUSDCAD FLOAT NOT NULL,\n",
    "                            PRIMARY KEY (DFX_ID))\", \n",
    "                errors=FALSE)"
   ]
  },
  {
   "cell_type": "markdown",
   "metadata": {},
   "source": [
    "## Problem 2\n",
    "#### Read Datasets and Load Tables\n",
    "Read the datasets into R dataframes using the urls provided above. Then load your tables.\n"
   ]
  },
  {
   "cell_type": "markdown",
   "metadata": {},
   "source": [
    "###  Solution 2\n"
   ]
  },
  {
   "cell_type": "code",
   "execution_count": 10,
   "metadata": {},
   "outputs": [
    {
     "data": {
      "text/html": [
       "<table>\n",
       "<caption>A data.frame: 6 × 8</caption>\n",
       "<thead>\n",
       "\t<tr><th></th><th scope=col>CD_ID</th><th scope=col>YEAR</th><th scope=col>CROP_TYPE</th><th scope=col>GEO</th><th scope=col>SEEDED_AREA</th><th scope=col>HARVESTED_AREA</th><th scope=col>PRODUCTION</th><th scope=col>AVG_YIELD</th></tr>\n",
       "\t<tr><th></th><th scope=col>&lt;int&gt;</th><th scope=col>&lt;chr&gt;</th><th scope=col>&lt;fct&gt;</th><th scope=col>&lt;fct&gt;</th><th scope=col>&lt;int&gt;</th><th scope=col>&lt;int&gt;</th><th scope=col>&lt;int&gt;</th><th scope=col>&lt;int&gt;</th></tr>\n",
       "</thead>\n",
       "<tbody>\n",
       "\t<tr><th scope=row>1</th><td>0</td><td>1965-12-31</td><td>Barley</td><td>Alberta     </td><td>1372000</td><td>1372000</td><td>2504000</td><td>1825</td></tr>\n",
       "\t<tr><th scope=row>2</th><td>1</td><td>1965-12-31</td><td>Barley</td><td>Canada      </td><td>2476800</td><td>2476800</td><td>4752900</td><td>1920</td></tr>\n",
       "\t<tr><th scope=row>3</th><td>2</td><td>1965-12-31</td><td>Barley</td><td>Saskatchewan</td><td> 708000</td><td> 708000</td><td>1415000</td><td>2000</td></tr>\n",
       "\t<tr><th scope=row>4</th><td>3</td><td>1965-12-31</td><td>Canola</td><td>Alberta     </td><td> 297400</td><td> 297400</td><td> 215500</td><td> 725</td></tr>\n",
       "\t<tr><th scope=row>5</th><td>4</td><td>1965-12-31</td><td>Canola</td><td>Canada      </td><td> 580700</td><td> 580700</td><td> 512600</td><td> 885</td></tr>\n",
       "\t<tr><th scope=row>6</th><td>5</td><td>1965-12-31</td><td>Canola</td><td>Saskatchewan</td><td> 224600</td><td> 224600</td><td> 242700</td><td>1080</td></tr>\n",
       "</tbody>\n",
       "</table>\n"
      ],
      "text/latex": [
       "A data.frame: 6 × 8\n",
       "\\begin{tabular}{r|llllllll}\n",
       "  & CD\\_ID & YEAR & CROP\\_TYPE & GEO & SEEDED\\_AREA & HARVESTED\\_AREA & PRODUCTION & AVG\\_YIELD\\\\\n",
       "  & <int> & <chr> & <fct> & <fct> & <int> & <int> & <int> & <int>\\\\\n",
       "\\hline\n",
       "\t1 & 0 & 1965-12-31 & Barley & Alberta      & 1372000 & 1372000 & 2504000 & 1825\\\\\n",
       "\t2 & 1 & 1965-12-31 & Barley & Canada       & 2476800 & 2476800 & 4752900 & 1920\\\\\n",
       "\t3 & 2 & 1965-12-31 & Barley & Saskatchewan &  708000 &  708000 & 1415000 & 2000\\\\\n",
       "\t4 & 3 & 1965-12-31 & Canola & Alberta      &  297400 &  297400 &  215500 &  725\\\\\n",
       "\t5 & 4 & 1965-12-31 & Canola & Canada       &  580700 &  580700 &  512600 &  885\\\\\n",
       "\t6 & 5 & 1965-12-31 & Canola & Saskatchewan &  224600 &  224600 &  242700 & 1080\\\\\n",
       "\\end{tabular}\n"
      ],
      "text/markdown": [
       "\n",
       "A data.frame: 6 × 8\n",
       "\n",
       "| <!--/--> | CD_ID &lt;int&gt; | YEAR &lt;chr&gt; | CROP_TYPE &lt;fct&gt; | GEO &lt;fct&gt; | SEEDED_AREA &lt;int&gt; | HARVESTED_AREA &lt;int&gt; | PRODUCTION &lt;int&gt; | AVG_YIELD &lt;int&gt; |\n",
       "|---|---|---|---|---|---|---|---|---|\n",
       "| 1 | 0 | 1965-12-31 | Barley | Alberta      | 1372000 | 1372000 | 2504000 | 1825 |\n",
       "| 2 | 1 | 1965-12-31 | Barley | Canada       | 2476800 | 2476800 | 4752900 | 1920 |\n",
       "| 3 | 2 | 1965-12-31 | Barley | Saskatchewan |  708000 |  708000 | 1415000 | 2000 |\n",
       "| 4 | 3 | 1965-12-31 | Canola | Alberta      |  297400 |  297400 |  215500 |  725 |\n",
       "| 5 | 4 | 1965-12-31 | Canola | Canada       |  580700 |  580700 |  512600 |  885 |\n",
       "| 6 | 5 | 1965-12-31 | Canola | Saskatchewan |  224600 |  224600 |  242700 | 1080 |\n",
       "\n"
      ],
      "text/plain": [
       "  CD_ID YEAR       CROP_TYPE GEO          SEEDED_AREA HARVESTED_AREA PRODUCTION\n",
       "1 0     1965-12-31 Barley    Alberta      1372000     1372000        2504000   \n",
       "2 1     1965-12-31 Barley    Canada       2476800     2476800        4752900   \n",
       "3 2     1965-12-31 Barley    Saskatchewan  708000      708000        1415000   \n",
       "4 3     1965-12-31 Canola    Alberta       297400      297400         215500   \n",
       "5 4     1965-12-31 Canola    Canada        580700      580700         512600   \n",
       "6 5     1965-12-31 Canola    Saskatchewan  224600      224600         242700   \n",
       "  AVG_YIELD\n",
       "1 1825     \n",
       "2 1920     \n",
       "3 2000     \n",
       "4  725     \n",
       "5  885     \n",
       "6 1080     "
      ]
     },
     "metadata": {},
     "output_type": "display_data"
    },
    {
     "data": {
      "text/html": [
       "<table>\n",
       "<caption>A data.frame: 6 × 5</caption>\n",
       "<thead>\n",
       "\t<tr><th></th><th scope=col>CD_ID</th><th scope=col>DATE</th><th scope=col>CROP_TYPE</th><th scope=col>GEO</th><th scope=col>PRICE_PRERMT</th></tr>\n",
       "\t<tr><th></th><th scope=col>&lt;int&gt;</th><th scope=col>&lt;chr&gt;</th><th scope=col>&lt;fct&gt;</th><th scope=col>&lt;fct&gt;</th><th scope=col>&lt;dbl&gt;</th></tr>\n",
       "</thead>\n",
       "<tbody>\n",
       "\t<tr><th scope=row>1</th><td>0</td><td>1985-01-01</td><td>Barley</td><td>Alberta     </td><td>127.39</td></tr>\n",
       "\t<tr><th scope=row>2</th><td>1</td><td>1985-01-01</td><td>Barley</td><td>Saskatchewan</td><td>121.38</td></tr>\n",
       "\t<tr><th scope=row>3</th><td>2</td><td>1985-01-01</td><td>Canola</td><td>Alberta     </td><td>342.00</td></tr>\n",
       "\t<tr><th scope=row>4</th><td>3</td><td>1985-01-01</td><td>Canola</td><td>Saskatchewan</td><td>339.82</td></tr>\n",
       "\t<tr><th scope=row>5</th><td>4</td><td>1985-01-01</td><td>Rye   </td><td>Alberta     </td><td>100.77</td></tr>\n",
       "\t<tr><th scope=row>6</th><td>5</td><td>1985-01-01</td><td>Rye   </td><td>Saskatchewan</td><td>109.75</td></tr>\n",
       "</tbody>\n",
       "</table>\n"
      ],
      "text/latex": [
       "A data.frame: 6 × 5\n",
       "\\begin{tabular}{r|lllll}\n",
       "  & CD\\_ID & DATE & CROP\\_TYPE & GEO & PRICE\\_PRERMT\\\\\n",
       "  & <int> & <chr> & <fct> & <fct> & <dbl>\\\\\n",
       "\\hline\n",
       "\t1 & 0 & 1985-01-01 & Barley & Alberta      & 127.39\\\\\n",
       "\t2 & 1 & 1985-01-01 & Barley & Saskatchewan & 121.38\\\\\n",
       "\t3 & 2 & 1985-01-01 & Canola & Alberta      & 342.00\\\\\n",
       "\t4 & 3 & 1985-01-01 & Canola & Saskatchewan & 339.82\\\\\n",
       "\t5 & 4 & 1985-01-01 & Rye    & Alberta      & 100.77\\\\\n",
       "\t6 & 5 & 1985-01-01 & Rye    & Saskatchewan & 109.75\\\\\n",
       "\\end{tabular}\n"
      ],
      "text/markdown": [
       "\n",
       "A data.frame: 6 × 5\n",
       "\n",
       "| <!--/--> | CD_ID &lt;int&gt; | DATE &lt;chr&gt; | CROP_TYPE &lt;fct&gt; | GEO &lt;fct&gt; | PRICE_PRERMT &lt;dbl&gt; |\n",
       "|---|---|---|---|---|---|\n",
       "| 1 | 0 | 1985-01-01 | Barley | Alberta      | 127.39 |\n",
       "| 2 | 1 | 1985-01-01 | Barley | Saskatchewan | 121.38 |\n",
       "| 3 | 2 | 1985-01-01 | Canola | Alberta      | 342.00 |\n",
       "| 4 | 3 | 1985-01-01 | Canola | Saskatchewan | 339.82 |\n",
       "| 5 | 4 | 1985-01-01 | Rye    | Alberta      | 100.77 |\n",
       "| 6 | 5 | 1985-01-01 | Rye    | Saskatchewan | 109.75 |\n",
       "\n"
      ],
      "text/plain": [
       "  CD_ID DATE       CROP_TYPE GEO          PRICE_PRERMT\n",
       "1 0     1985-01-01 Barley    Alberta      127.39      \n",
       "2 1     1985-01-01 Barley    Saskatchewan 121.38      \n",
       "3 2     1985-01-01 Canola    Alberta      342.00      \n",
       "4 3     1985-01-01 Canola    Saskatchewan 339.82      \n",
       "5 4     1985-01-01 Rye       Alberta      100.77      \n",
       "6 5     1985-01-01 Rye       Saskatchewan 109.75      "
      ]
     },
     "metadata": {},
     "output_type": "display_data"
    },
    {
     "data": {
      "text/html": [
       "<table>\n",
       "<caption>A data.frame: 6 × 3</caption>\n",
       "<thead>\n",
       "\t<tr><th></th><th scope=col>DFX_ID</th><th scope=col>DATE</th><th scope=col>FXUSDCAD</th></tr>\n",
       "\t<tr><th></th><th scope=col>&lt;int&gt;</th><th scope=col>&lt;chr&gt;</th><th scope=col>&lt;dbl&gt;</th></tr>\n",
       "</thead>\n",
       "<tbody>\n",
       "\t<tr><th scope=row>1</th><td>0</td><td>2017-01-03</td><td>1.3435</td></tr>\n",
       "\t<tr><th scope=row>2</th><td>1</td><td>2017-01-04</td><td>1.3315</td></tr>\n",
       "\t<tr><th scope=row>3</th><td>2</td><td>2017-01-05</td><td>1.3244</td></tr>\n",
       "\t<tr><th scope=row>4</th><td>3</td><td>2017-01-06</td><td>1.3214</td></tr>\n",
       "\t<tr><th scope=row>5</th><td>4</td><td>2017-01-09</td><td>1.3240</td></tr>\n",
       "\t<tr><th scope=row>6</th><td>5</td><td>2017-01-10</td><td>1.3213</td></tr>\n",
       "</tbody>\n",
       "</table>\n"
      ],
      "text/latex": [
       "A data.frame: 6 × 3\n",
       "\\begin{tabular}{r|lll}\n",
       "  & DFX\\_ID & DATE & FXUSDCAD\\\\\n",
       "  & <int> & <chr> & <dbl>\\\\\n",
       "\\hline\n",
       "\t1 & 0 & 2017-01-03 & 1.3435\\\\\n",
       "\t2 & 1 & 2017-01-04 & 1.3315\\\\\n",
       "\t3 & 2 & 2017-01-05 & 1.3244\\\\\n",
       "\t4 & 3 & 2017-01-06 & 1.3214\\\\\n",
       "\t5 & 4 & 2017-01-09 & 1.3240\\\\\n",
       "\t6 & 5 & 2017-01-10 & 1.3213\\\\\n",
       "\\end{tabular}\n"
      ],
      "text/markdown": [
       "\n",
       "A data.frame: 6 × 3\n",
       "\n",
       "| <!--/--> | DFX_ID &lt;int&gt; | DATE &lt;chr&gt; | FXUSDCAD &lt;dbl&gt; |\n",
       "|---|---|---|---|\n",
       "| 1 | 0 | 2017-01-03 | 1.3435 |\n",
       "| 2 | 1 | 2017-01-04 | 1.3315 |\n",
       "| 3 | 2 | 2017-01-05 | 1.3244 |\n",
       "| 4 | 3 | 2017-01-06 | 1.3214 |\n",
       "| 5 | 4 | 2017-01-09 | 1.3240 |\n",
       "| 6 | 5 | 2017-01-10 | 1.3213 |\n",
       "\n"
      ],
      "text/plain": [
       "  DFX_ID DATE       FXUSDCAD\n",
       "1 0      2017-01-03 1.3435  \n",
       "2 1      2017-01-04 1.3315  \n",
       "3 2      2017-01-05 1.3244  \n",
       "4 3      2017-01-06 1.3214  \n",
       "5 4      2017-01-09 1.3240  \n",
       "6 5      2017-01-10 1.3213  "
      ]
     },
     "metadata": {},
     "output_type": "display_data"
    },
    {
     "data": {
      "text/html": [
       "<table>\n",
       "<caption>A data.frame: 6 × 3</caption>\n",
       "<thead>\n",
       "\t<tr><th></th><th scope=col>DFX_ID</th><th scope=col>DATE</th><th scope=col>FXUSDCAD</th></tr>\n",
       "\t<tr><th></th><th scope=col>&lt;int&gt;</th><th scope=col>&lt;chr&gt;</th><th scope=col>&lt;dbl&gt;</th></tr>\n",
       "</thead>\n",
       "<tbody>\n",
       "\t<tr><th scope=row>1</th><td>0</td><td>2017-01-01</td><td>1.319276</td></tr>\n",
       "\t<tr><th scope=row>2</th><td>1</td><td>2017-02-01</td><td>1.310726</td></tr>\n",
       "\t<tr><th scope=row>3</th><td>2</td><td>2017-03-01</td><td>1.338643</td></tr>\n",
       "\t<tr><th scope=row>4</th><td>3</td><td>2017-04-01</td><td>1.344021</td></tr>\n",
       "\t<tr><th scope=row>5</th><td>4</td><td>2017-05-01</td><td>1.360705</td></tr>\n",
       "\t<tr><th scope=row>6</th><td>5</td><td>2017-06-01</td><td>1.329805</td></tr>\n",
       "</tbody>\n",
       "</table>\n"
      ],
      "text/latex": [
       "A data.frame: 6 × 3\n",
       "\\begin{tabular}{r|lll}\n",
       "  & DFX\\_ID & DATE & FXUSDCAD\\\\\n",
       "  & <int> & <chr> & <dbl>\\\\\n",
       "\\hline\n",
       "\t1 & 0 & 2017-01-01 & 1.319276\\\\\n",
       "\t2 & 1 & 2017-02-01 & 1.310726\\\\\n",
       "\t3 & 2 & 2017-03-01 & 1.338643\\\\\n",
       "\t4 & 3 & 2017-04-01 & 1.344021\\\\\n",
       "\t5 & 4 & 2017-05-01 & 1.360705\\\\\n",
       "\t6 & 5 & 2017-06-01 & 1.329805\\\\\n",
       "\\end{tabular}\n"
      ],
      "text/markdown": [
       "\n",
       "A data.frame: 6 × 3\n",
       "\n",
       "| <!--/--> | DFX_ID &lt;int&gt; | DATE &lt;chr&gt; | FXUSDCAD &lt;dbl&gt; |\n",
       "|---|---|---|---|\n",
       "| 1 | 0 | 2017-01-01 | 1.319276 |\n",
       "| 2 | 1 | 2017-02-01 | 1.310726 |\n",
       "| 3 | 2 | 2017-03-01 | 1.338643 |\n",
       "| 4 | 3 | 2017-04-01 | 1.344021 |\n",
       "| 5 | 4 | 2017-05-01 | 1.360705 |\n",
       "| 6 | 5 | 2017-06-01 | 1.329805 |\n",
       "\n"
      ],
      "text/plain": [
       "  DFX_ID DATE       FXUSDCAD\n",
       "1 0      2017-01-01 1.319276\n",
       "2 1      2017-02-01 1.310726\n",
       "3 2      2017-03-01 1.338643\n",
       "4 3      2017-04-01 1.344021\n",
       "5 4      2017-05-01 1.360705\n",
       "6 5      2017-06-01 1.329805"
      ]
     },
     "metadata": {},
     "output_type": "display_data"
    }
   ],
   "source": [
    "crop_df <- read.csv('https://cf-courses-data.s3.us.cloud-object-storage.appdomain.cloud/IBM-RP0203EN-SkillsNetwork/labs/Final%20Project/Annual_Crop_Data.csv', colClasses=c(YEAR=\"character\"))\n",
    "farm_df <- read.csv('https://cf-courses-data.s3.us.cloud-object-storage.appdomain.cloud/IBM-RP0203EN-SkillsNetwork/labs/Final%20Project/Monthly_Farm_Prices.csv', colClasses=c(DATE=\"character\"))\n",
    "daily_df <- read.csv('https://cf-courses-data.s3.us.cloud-object-storage.appdomain.cloud/IBM-RP0203EN-SkillsNetwork/labs/Final%20Project/Daily_FX.csv', colClasses=c(DATE=\"character\"))\n",
    "monthly_df <- read.csv('https://cf-courses-data.s3.us.cloud-object-storage.appdomain.cloud/IBM-RP0203EN-SkillsNetwork/labs/Final%20Project/Monthly_FX.csv', colClasses=c(DATE=\"character\"))\n",
    "\n",
    "head(crop_df)\n",
    "head(farm_df)\n",
    "head(daily_df)\n",
    "head(monthly_df)"
   ]
  },
  {
   "cell_type": "code",
   "execution_count": null,
   "metadata": {},
   "outputs": [],
   "source": []
  },
  {
   "cell_type": "markdown",
   "metadata": {},
   "source": [
    "## Now execute SQL queries using the RODBC R package to solve the assignment problems.\n",
    "\n",
    "## Problem 3\n",
    "#### How many records are in the farm prices dataset?\n"
   ]
  },
  {
   "cell_type": "markdown",
   "metadata": {},
   "source": [
    "### Solution 3\n"
   ]
  },
  {
   "cell_type": "code",
   "execution_count": null,
   "metadata": {},
   "outputs": [],
   "source": []
  },
  {
   "cell_type": "markdown",
   "metadata": {},
   "source": [
    "## Problem 4\n",
    "#### Which geographies are included in the farm prices dataset?\n"
   ]
  },
  {
   "cell_type": "markdown",
   "metadata": {},
   "source": [
    "### Solution 4\n"
   ]
  },
  {
   "cell_type": "code",
   "execution_count": null,
   "metadata": {},
   "outputs": [],
   "source": []
  },
  {
   "cell_type": "markdown",
   "metadata": {},
   "source": [
    "## Problem 5\n",
    "#### How many hectares of Rye were harvested in Canada in 1968?\n"
   ]
  },
  {
   "cell_type": "markdown",
   "metadata": {},
   "source": [
    "### Solution 5\n"
   ]
  },
  {
   "cell_type": "code",
   "execution_count": null,
   "metadata": {},
   "outputs": [],
   "source": []
  },
  {
   "cell_type": "markdown",
   "metadata": {},
   "source": [
    "## Problem 6\n",
    "#### Query and display the first 6 rows of the farm prices table for Rye.\n"
   ]
  },
  {
   "cell_type": "markdown",
   "metadata": {},
   "source": [
    "### Solution 6\n"
   ]
  },
  {
   "cell_type": "code",
   "execution_count": null,
   "metadata": {},
   "outputs": [],
   "source": []
  },
  {
   "cell_type": "markdown",
   "metadata": {},
   "source": [
    "## Problem 7\n",
    "#### Which provinces grew Barley? \n"
   ]
  },
  {
   "cell_type": "markdown",
   "metadata": {},
   "source": [
    "### Solution 7\n"
   ]
  },
  {
   "cell_type": "code",
   "execution_count": null,
   "metadata": {},
   "outputs": [],
   "source": []
  },
  {
   "cell_type": "markdown",
   "metadata": {},
   "source": [
    "## Problem 8\n",
    "#### Find the first and last dates for the farm prices data.\n"
   ]
  },
  {
   "cell_type": "markdown",
   "metadata": {},
   "source": [
    "### Solution 8\n"
   ]
  },
  {
   "cell_type": "code",
   "execution_count": null,
   "metadata": {},
   "outputs": [],
   "source": []
  },
  {
   "cell_type": "markdown",
   "metadata": {},
   "source": [
    "## Problem 9\n",
    "#### Which crops have ever reached a farm price greater than or equal to &#0036;350 per metric tonne?\n"
   ]
  },
  {
   "cell_type": "markdown",
   "metadata": {},
   "source": [
    "### Solution 9\n"
   ]
  },
  {
   "cell_type": "code",
   "execution_count": null,
   "metadata": {},
   "outputs": [],
   "source": []
  },
  {
   "cell_type": "markdown",
   "metadata": {},
   "source": [
    "## Problem 10\n",
    "#### Rank the crop types harvested in Saskatchewan in the year 2000 by their average yield. Which crop performed best? \n"
   ]
  },
  {
   "cell_type": "markdown",
   "metadata": {},
   "source": [
    "### Solution 10\n"
   ]
  },
  {
   "cell_type": "code",
   "execution_count": null,
   "metadata": {},
   "outputs": [],
   "source": []
  },
  {
   "cell_type": "markdown",
   "metadata": {},
   "source": [
    "## Problem 11\n",
    "#### Rank the crops and geographies by their average yield (KG per hectare) since the year 2000. Which crop and province had the highest average yield since the year 2000? \n"
   ]
  },
  {
   "cell_type": "markdown",
   "metadata": {},
   "source": [
    "### Solution 11\n"
   ]
  },
  {
   "cell_type": "code",
   "execution_count": null,
   "metadata": {},
   "outputs": [],
   "source": []
  },
  {
   "cell_type": "markdown",
   "metadata": {},
   "source": [
    "## Problem 12\n",
    "#### Use a subquery to determine how much wheat was harvested in Canada in the most recent year of the data.\n"
   ]
  },
  {
   "cell_type": "markdown",
   "metadata": {},
   "source": [
    "### Solution 12\n"
   ]
  },
  {
   "cell_type": "code",
   "execution_count": null,
   "metadata": {},
   "outputs": [],
   "source": []
  },
  {
   "cell_type": "markdown",
   "metadata": {},
   "source": [
    "## Problem 13\n",
    "#### Use an implicit inner join to calculate the monthly price per metric tonne of Canola grown in Saskatchewan in both Canadian and US dollars. Display the most recent 6 months of the data.\n"
   ]
  },
  {
   "cell_type": "markdown",
   "metadata": {},
   "source": [
    "### Solution 13\n"
   ]
  },
  {
   "cell_type": "code",
   "execution_count": null,
   "metadata": {},
   "outputs": [],
   "source": []
  },
  {
   "cell_type": "markdown",
   "metadata": {},
   "source": [
    "## Author(s)\n",
    "\n",
    "<h4> Jeff Grossman </h4>\n",
    "\n",
    "## Contributor(s)\n",
    "\n",
    "<h4> Rav Ahuja </h4>\n",
    "\n",
    "## Change log\n",
    "\n",
    "| Date       | Version | Changed by    | Change Description                                                                                          |\n",
    "| ---------- | ------- | ------------- | ----------------------------------------------------------------------------------------------------------- |\n",
    "| 2021-04-01 | 0.7     | Jeff Grossman | Split Problem 1 solution cell into multiple cells, fixed minor bugs |\n",
    "| 2021-03-12 | 0.6     | Jeff Grossman | Cleaned up content for production |\n",
    "| 2021-03-11 | 0.5     | Jeff Grossman | Moved more advanced problems to optional honours module |\n",
    "| 2021-03-10 | 0.4     | Jeff Grossman | Added introductory and intermediate level problems and removed some advanced problems |\n",
    "| 2021-03-04 | 0.3     | Jeff Grossman | Moved some problems to a new practice lab as prep for this assignment\n",
    "| 2021-03-04 | 0.2     | Jeff Grossman | Sorted problems roughly by level of difficulty and relegated more advanced ones to ungraded bonus problems  |\n",
    "| 2021-02-20 | 0.1     | Jeff Grossman | Started content creation                                                                                    |\n",
    "\n",
    "\n",
    "## <h3 align=\"center\"> © IBM Corporation 2021. All rights reserved. <h3/>\n"
   ]
  },
  {
   "cell_type": "code",
   "execution_count": null,
   "metadata": {},
   "outputs": [],
   "source": []
  }
 ],
 "metadata": {
  "kernelspec": {
   "display_name": "R",
   "language": "R",
   "name": "conda-env-r-r"
  },
  "language_info": {
   "codemirror_mode": "r",
   "file_extension": ".r",
   "mimetype": "text/x-r-source",
   "name": "R",
   "pygments_lexer": "r",
   "version": "3.5.1"
  }
 },
 "nbformat": 4,
 "nbformat_minor": 4
}
